{
 "cells": [
  {
   "cell_type": "markdown",
   "metadata": {},
   "source": [
    "# Определение перспективного тарифа для телеком компании"
   ]
  },
  {
   "cell_type": "markdown",
   "metadata": {},
   "source": [
    "Оператор телеком пытается определить, на какой из тарифов сделать упор в продвижении.\n",
    "\n",
    "В распоряжении данные 500 пользователей оператора телеком: кто они, откуда, каким тарифом пользуются, сколько звонков и сообщений каждый отправил за 2018 год, объем интернет трафика. \n",
    "\n",
    "Задача - на основе имеющихся данных провести исследовательский и статистический анализ. Выявить возможные закономерности.Проверить статистические гипотезы о различии средней выручки оператора от пользователей тарифов «Ультра» и «Смарт», и о различии средней выручки по жителям Москвы и других регионов."
   ]
  },
  {
   "cell_type": "markdown",
   "metadata": {},
   "source": [
    "## Содержание\n",
    "\n",
    "1. [Предобработка данных.](#1)\n",
    "\n",
    "2. [Расчет производных показателей.](#2)\n",
    "\n",
    "3. [Исследовательский анализ данных.](#3)\n",
    "\n",
    "4. [Проверка статистических гипотез.](#4)\n",
    "\n",
    "5. [Выводы.](#5)"
   ]
  },
  {
   "cell_type": "markdown",
   "metadata": {},
   "source": [
    "## 1. Предобработка данных. <a id=1></a>"
   ]
  },
  {
   "cell_type": "markdown",
   "metadata": {},
   "source": [
    "### Знакомство с данными"
   ]
  },
  {
   "cell_type": "code",
   "execution_count": 153,
   "metadata": {},
   "outputs": [],
   "source": [
    "# импортируем все, что пригодится\n",
    "import pandas as pd\n",
    "import matplotlib.pyplot as plt\n",
    "import numpy as np\n",
    "from scipy import stats as st"
   ]
  },
  {
   "cell_type": "code",
   "execution_count": 154,
   "metadata": {},
   "outputs": [],
   "source": [
    "# забираем все датасеты\n",
    "users_data = pd.read_csv('users.csv')\n",
    "calls_data = pd.read_csv('calls.csv')\n",
    "messages_data = pd.read_csv('messages.csv')\n",
    "internet_data = pd.read_csv('internet.csv')\n",
    "tariffs_data = pd.read_csv('tariffs.csv')"
   ]
  },
  {
   "cell_type": "code",
   "execution_count": 155,
   "metadata": {},
   "outputs": [
    {
     "name": "stdout",
     "output_type": "stream",
     "text": [
      "<class 'pandas.core.frame.DataFrame'>\n",
      "RangeIndex: 500 entries, 0 to 499\n",
      "Data columns (total 8 columns):\n",
      " #   Column      Non-Null Count  Dtype \n",
      "---  ------      --------------  ----- \n",
      " 0   user_id     500 non-null    int64 \n",
      " 1   age         500 non-null    int64 \n",
      " 2   churn_date  38 non-null     object\n",
      " 3   city        500 non-null    object\n",
      " 4   first_name  500 non-null    object\n",
      " 5   last_name   500 non-null    object\n",
      " 6   reg_date    500 non-null    object\n",
      " 7   tariff      500 non-null    object\n",
      "dtypes: int64(2), object(6)\n",
      "memory usage: 19.6+ KB\n"
     ]
    },
    {
     "data": {
      "text/html": [
       "<div>\n",
       "<style scoped>\n",
       "    .dataframe tbody tr th:only-of-type {\n",
       "        vertical-align: middle;\n",
       "    }\n",
       "\n",
       "    .dataframe tbody tr th {\n",
       "        vertical-align: top;\n",
       "    }\n",
       "\n",
       "    .dataframe thead th {\n",
       "        text-align: right;\n",
       "    }\n",
       "</style>\n",
       "<table border=\"1\" class=\"dataframe\">\n",
       "  <thead>\n",
       "    <tr style=\"text-align: right;\">\n",
       "      <th></th>\n",
       "      <th>user_id</th>\n",
       "      <th>age</th>\n",
       "      <th>churn_date</th>\n",
       "      <th>city</th>\n",
       "      <th>first_name</th>\n",
       "      <th>last_name</th>\n",
       "      <th>reg_date</th>\n",
       "      <th>tariff</th>\n",
       "    </tr>\n",
       "  </thead>\n",
       "  <tbody>\n",
       "    <tr>\n",
       "      <th>0</th>\n",
       "      <td>1000</td>\n",
       "      <td>52</td>\n",
       "      <td>NaN</td>\n",
       "      <td>Краснодар</td>\n",
       "      <td>Рафаил</td>\n",
       "      <td>Верещагин</td>\n",
       "      <td>2018-05-25</td>\n",
       "      <td>ultra</td>\n",
       "    </tr>\n",
       "    <tr>\n",
       "      <th>1</th>\n",
       "      <td>1001</td>\n",
       "      <td>41</td>\n",
       "      <td>NaN</td>\n",
       "      <td>Москва</td>\n",
       "      <td>Иван</td>\n",
       "      <td>Ежов</td>\n",
       "      <td>2018-11-01</td>\n",
       "      <td>smart</td>\n",
       "    </tr>\n",
       "    <tr>\n",
       "      <th>2</th>\n",
       "      <td>1002</td>\n",
       "      <td>59</td>\n",
       "      <td>NaN</td>\n",
       "      <td>Стерлитамак</td>\n",
       "      <td>Евгений</td>\n",
       "      <td>Абрамович</td>\n",
       "      <td>2018-06-17</td>\n",
       "      <td>smart</td>\n",
       "    </tr>\n",
       "    <tr>\n",
       "      <th>3</th>\n",
       "      <td>1003</td>\n",
       "      <td>23</td>\n",
       "      <td>NaN</td>\n",
       "      <td>Москва</td>\n",
       "      <td>Белла</td>\n",
       "      <td>Белякова</td>\n",
       "      <td>2018-08-17</td>\n",
       "      <td>ultra</td>\n",
       "    </tr>\n",
       "    <tr>\n",
       "      <th>4</th>\n",
       "      <td>1004</td>\n",
       "      <td>68</td>\n",
       "      <td>NaN</td>\n",
       "      <td>Новокузнецк</td>\n",
       "      <td>Татьяна</td>\n",
       "      <td>Авдеенко</td>\n",
       "      <td>2018-05-14</td>\n",
       "      <td>ultra</td>\n",
       "    </tr>\n",
       "  </tbody>\n",
       "</table>\n",
       "</div>"
      ],
      "text/plain": [
       "   user_id  age churn_date         city first_name  last_name    reg_date  \\\n",
       "0     1000   52        NaN    Краснодар     Рафаил  Верещагин  2018-05-25   \n",
       "1     1001   41        NaN       Москва       Иван       Ежов  2018-11-01   \n",
       "2     1002   59        NaN  Стерлитамак    Евгений  Абрамович  2018-06-17   \n",
       "3     1003   23        NaN       Москва      Белла   Белякова  2018-08-17   \n",
       "4     1004   68        NaN  Новокузнецк    Татьяна   Авдеенко  2018-05-14   \n",
       "\n",
       "  tariff  \n",
       "0  ultra  \n",
       "1  smart  \n",
       "2  smart  \n",
       "3  ultra  \n",
       "4  ultra  "
      ]
     },
     "metadata": {},
     "output_type": "display_data"
    },
    {
     "name": "stdout",
     "output_type": "stream",
     "text": [
      "Уникальных клиентов: 500\n"
     ]
    }
   ],
   "source": [
    "# Ознакомимся с данными пользователей\n",
    "users_data.info()\n",
    "display(users_data.head())\n",
    "unique_clients = pd.DataFrame(users_data['user_id'].unique())\n",
    "print('Уникальных клиентов:',unique_clients.shape[0])"
   ]
  },
  {
   "cell_type": "code",
   "execution_count": 156,
   "metadata": {},
   "outputs": [
    {
     "name": "stdout",
     "output_type": "stream",
     "text": [
      "<class 'pandas.core.frame.DataFrame'>\n",
      "RangeIndex: 202607 entries, 0 to 202606\n",
      "Data columns (total 4 columns):\n",
      " #   Column     Non-Null Count   Dtype  \n",
      "---  ------     --------------   -----  \n",
      " 0   id         202607 non-null  object \n",
      " 1   call_date  202607 non-null  object \n",
      " 2   duration   202607 non-null  float64\n",
      " 3   user_id    202607 non-null  int64  \n",
      "dtypes: float64(1), int64(1), object(2)\n",
      "memory usage: 4.6+ MB\n"
     ]
    },
    {
     "data": {
      "text/html": [
       "<div>\n",
       "<style scoped>\n",
       "    .dataframe tbody tr th:only-of-type {\n",
       "        vertical-align: middle;\n",
       "    }\n",
       "\n",
       "    .dataframe tbody tr th {\n",
       "        vertical-align: top;\n",
       "    }\n",
       "\n",
       "    .dataframe thead th {\n",
       "        text-align: right;\n",
       "    }\n",
       "</style>\n",
       "<table border=\"1\" class=\"dataframe\">\n",
       "  <thead>\n",
       "    <tr style=\"text-align: right;\">\n",
       "      <th></th>\n",
       "      <th>id</th>\n",
       "      <th>call_date</th>\n",
       "      <th>duration</th>\n",
       "      <th>user_id</th>\n",
       "    </tr>\n",
       "  </thead>\n",
       "  <tbody>\n",
       "    <tr>\n",
       "      <th>0</th>\n",
       "      <td>1000_0</td>\n",
       "      <td>2018-07-25</td>\n",
       "      <td>0.00</td>\n",
       "      <td>1000</td>\n",
       "    </tr>\n",
       "    <tr>\n",
       "      <th>1</th>\n",
       "      <td>1000_1</td>\n",
       "      <td>2018-08-17</td>\n",
       "      <td>0.00</td>\n",
       "      <td>1000</td>\n",
       "    </tr>\n",
       "    <tr>\n",
       "      <th>2</th>\n",
       "      <td>1000_2</td>\n",
       "      <td>2018-06-11</td>\n",
       "      <td>2.85</td>\n",
       "      <td>1000</td>\n",
       "    </tr>\n",
       "    <tr>\n",
       "      <th>3</th>\n",
       "      <td>1000_3</td>\n",
       "      <td>2018-09-21</td>\n",
       "      <td>13.80</td>\n",
       "      <td>1000</td>\n",
       "    </tr>\n",
       "    <tr>\n",
       "      <th>4</th>\n",
       "      <td>1000_4</td>\n",
       "      <td>2018-12-15</td>\n",
       "      <td>5.18</td>\n",
       "      <td>1000</td>\n",
       "    </tr>\n",
       "  </tbody>\n",
       "</table>\n",
       "</div>"
      ],
      "text/plain": [
       "       id   call_date  duration  user_id\n",
       "0  1000_0  2018-07-25      0.00     1000\n",
       "1  1000_1  2018-08-17      0.00     1000\n",
       "2  1000_2  2018-06-11      2.85     1000\n",
       "3  1000_3  2018-09-21     13.80     1000\n",
       "4  1000_4  2018-12-15      5.18     1000"
      ]
     },
     "metadata": {},
     "output_type": "display_data"
    },
    {
     "name": "stdout",
     "output_type": "stream",
     "text": [
      "Уникальных клиентов: 492\n"
     ]
    }
   ],
   "source": [
    "# Ознакомимся с данными о звонках\n",
    "calls_data.info()\n",
    "display(calls_data.head())\n",
    "\n",
    "unique_clients = pd.DataFrame(calls_data['user_id'].unique())\n",
    "print('Уникальных клиентов:',unique_clients.shape[0])\n",
    "# Видимо 8 клиентов из списка не пользуются телефоном для звонков"
   ]
  },
  {
   "cell_type": "markdown",
   "metadata": {},
   "source": [
    "> <span style = \"color:Blue\">  В calls явных пропусков нет, но нулевые звонки позднее обрежем, т.к. денег они не приносят, а средние значения будут размывать.</span>"
   ]
  },
  {
   "cell_type": "code",
   "execution_count": 157,
   "metadata": {},
   "outputs": [
    {
     "name": "stdout",
     "output_type": "stream",
     "text": [
      "<class 'pandas.core.frame.DataFrame'>\n",
      "RangeIndex: 123036 entries, 0 to 123035\n",
      "Data columns (total 3 columns):\n",
      " #   Column        Non-Null Count   Dtype \n",
      "---  ------        --------------   ----- \n",
      " 0   id            123036 non-null  object\n",
      " 1   message_date  123036 non-null  object\n",
      " 2   user_id       123036 non-null  int64 \n",
      "dtypes: int64(1), object(2)\n",
      "memory usage: 1.9+ MB\n"
     ]
    },
    {
     "data": {
      "text/html": [
       "<div>\n",
       "<style scoped>\n",
       "    .dataframe tbody tr th:only-of-type {\n",
       "        vertical-align: middle;\n",
       "    }\n",
       "\n",
       "    .dataframe tbody tr th {\n",
       "        vertical-align: top;\n",
       "    }\n",
       "\n",
       "    .dataframe thead th {\n",
       "        text-align: right;\n",
       "    }\n",
       "</style>\n",
       "<table border=\"1\" class=\"dataframe\">\n",
       "  <thead>\n",
       "    <tr style=\"text-align: right;\">\n",
       "      <th></th>\n",
       "      <th>id</th>\n",
       "      <th>message_date</th>\n",
       "      <th>user_id</th>\n",
       "    </tr>\n",
       "  </thead>\n",
       "  <tbody>\n",
       "    <tr>\n",
       "      <th>0</th>\n",
       "      <td>1000_0</td>\n",
       "      <td>2018-06-27</td>\n",
       "      <td>1000</td>\n",
       "    </tr>\n",
       "    <tr>\n",
       "      <th>1</th>\n",
       "      <td>1000_1</td>\n",
       "      <td>2018-10-08</td>\n",
       "      <td>1000</td>\n",
       "    </tr>\n",
       "    <tr>\n",
       "      <th>2</th>\n",
       "      <td>1000_2</td>\n",
       "      <td>2018-08-04</td>\n",
       "      <td>1000</td>\n",
       "    </tr>\n",
       "    <tr>\n",
       "      <th>3</th>\n",
       "      <td>1000_3</td>\n",
       "      <td>2018-06-16</td>\n",
       "      <td>1000</td>\n",
       "    </tr>\n",
       "    <tr>\n",
       "      <th>4</th>\n",
       "      <td>1000_4</td>\n",
       "      <td>2018-12-05</td>\n",
       "      <td>1000</td>\n",
       "    </tr>\n",
       "  </tbody>\n",
       "</table>\n",
       "</div>"
      ],
      "text/plain": [
       "       id message_date  user_id\n",
       "0  1000_0   2018-06-27     1000\n",
       "1  1000_1   2018-10-08     1000\n",
       "2  1000_2   2018-08-04     1000\n",
       "3  1000_3   2018-06-16     1000\n",
       "4  1000_4   2018-12-05     1000"
      ]
     },
     "metadata": {},
     "output_type": "display_data"
    },
    {
     "name": "stdout",
     "output_type": "stream",
     "text": [
      "Уникальных клиентов: 426\n"
     ]
    }
   ],
   "source": [
    "# Ознакомимся с данными о сообщениях\n",
    "messages_data.info()\n",
    "display(messages_data.head())\n",
    "\n",
    "unique_clients = pd.DataFrame(messages_data['user_id'].unique())\n",
    "print('Уникальных клиентов:',unique_clients.shape[0])\n",
    "# 74 клиента из списка не используют СМС"
   ]
  },
  {
   "cell_type": "code",
   "execution_count": 158,
   "metadata": {},
   "outputs": [
    {
     "name": "stdout",
     "output_type": "stream",
     "text": [
      "<class 'pandas.core.frame.DataFrame'>\n",
      "RangeIndex: 149396 entries, 0 to 149395\n",
      "Data columns (total 5 columns):\n",
      " #   Column        Non-Null Count   Dtype  \n",
      "---  ------        --------------   -----  \n",
      " 0   Unnamed: 0    149396 non-null  int64  \n",
      " 1   id            149396 non-null  object \n",
      " 2   mb_used       149396 non-null  float64\n",
      " 3   session_date  149396 non-null  object \n",
      " 4   user_id       149396 non-null  int64  \n",
      "dtypes: float64(1), int64(2), object(2)\n",
      "memory usage: 4.6+ MB\n"
     ]
    },
    {
     "data": {
      "text/html": [
       "<div>\n",
       "<style scoped>\n",
       "    .dataframe tbody tr th:only-of-type {\n",
       "        vertical-align: middle;\n",
       "    }\n",
       "\n",
       "    .dataframe tbody tr th {\n",
       "        vertical-align: top;\n",
       "    }\n",
       "\n",
       "    .dataframe thead th {\n",
       "        text-align: right;\n",
       "    }\n",
       "</style>\n",
       "<table border=\"1\" class=\"dataframe\">\n",
       "  <thead>\n",
       "    <tr style=\"text-align: right;\">\n",
       "      <th></th>\n",
       "      <th>Unnamed: 0</th>\n",
       "      <th>id</th>\n",
       "      <th>mb_used</th>\n",
       "      <th>session_date</th>\n",
       "      <th>user_id</th>\n",
       "    </tr>\n",
       "  </thead>\n",
       "  <tbody>\n",
       "    <tr>\n",
       "      <th>0</th>\n",
       "      <td>0</td>\n",
       "      <td>1000_0</td>\n",
       "      <td>112.95</td>\n",
       "      <td>2018-11-25</td>\n",
       "      <td>1000</td>\n",
       "    </tr>\n",
       "    <tr>\n",
       "      <th>1</th>\n",
       "      <td>1</td>\n",
       "      <td>1000_1</td>\n",
       "      <td>1052.81</td>\n",
       "      <td>2018-09-07</td>\n",
       "      <td>1000</td>\n",
       "    </tr>\n",
       "    <tr>\n",
       "      <th>2</th>\n",
       "      <td>2</td>\n",
       "      <td>1000_2</td>\n",
       "      <td>1197.26</td>\n",
       "      <td>2018-06-25</td>\n",
       "      <td>1000</td>\n",
       "    </tr>\n",
       "    <tr>\n",
       "      <th>3</th>\n",
       "      <td>3</td>\n",
       "      <td>1000_3</td>\n",
       "      <td>550.27</td>\n",
       "      <td>2018-08-22</td>\n",
       "      <td>1000</td>\n",
       "    </tr>\n",
       "    <tr>\n",
       "      <th>4</th>\n",
       "      <td>4</td>\n",
       "      <td>1000_4</td>\n",
       "      <td>302.56</td>\n",
       "      <td>2018-09-24</td>\n",
       "      <td>1000</td>\n",
       "    </tr>\n",
       "    <tr>\n",
       "      <th>5</th>\n",
       "      <td>5</td>\n",
       "      <td>1000_5</td>\n",
       "      <td>399.97</td>\n",
       "      <td>2018-10-02</td>\n",
       "      <td>1000</td>\n",
       "    </tr>\n",
       "    <tr>\n",
       "      <th>6</th>\n",
       "      <td>6</td>\n",
       "      <td>1000_6</td>\n",
       "      <td>540.08</td>\n",
       "      <td>2018-09-07</td>\n",
       "      <td>1000</td>\n",
       "    </tr>\n",
       "    <tr>\n",
       "      <th>7</th>\n",
       "      <td>7</td>\n",
       "      <td>1000_7</td>\n",
       "      <td>415.70</td>\n",
       "      <td>2018-07-11</td>\n",
       "      <td>1000</td>\n",
       "    </tr>\n",
       "    <tr>\n",
       "      <th>8</th>\n",
       "      <td>8</td>\n",
       "      <td>1000_8</td>\n",
       "      <td>505.40</td>\n",
       "      <td>2018-10-08</td>\n",
       "      <td>1000</td>\n",
       "    </tr>\n",
       "    <tr>\n",
       "      <th>9</th>\n",
       "      <td>9</td>\n",
       "      <td>1000_9</td>\n",
       "      <td>345.54</td>\n",
       "      <td>2018-09-03</td>\n",
       "      <td>1000</td>\n",
       "    </tr>\n",
       "    <tr>\n",
       "      <th>10</th>\n",
       "      <td>10</td>\n",
       "      <td>1000_10</td>\n",
       "      <td>385.14</td>\n",
       "      <td>2018-09-27</td>\n",
       "      <td>1000</td>\n",
       "    </tr>\n",
       "    <tr>\n",
       "      <th>11</th>\n",
       "      <td>11</td>\n",
       "      <td>1000_11</td>\n",
       "      <td>0.00</td>\n",
       "      <td>2018-08-28</td>\n",
       "      <td>1000</td>\n",
       "    </tr>\n",
       "    <tr>\n",
       "      <th>12</th>\n",
       "      <td>12</td>\n",
       "      <td>1000_12</td>\n",
       "      <td>375.87</td>\n",
       "      <td>2018-06-20</td>\n",
       "      <td>1000</td>\n",
       "    </tr>\n",
       "    <tr>\n",
       "      <th>13</th>\n",
       "      <td>13</td>\n",
       "      <td>1000_13</td>\n",
       "      <td>393.83</td>\n",
       "      <td>2018-08-09</td>\n",
       "      <td>1000</td>\n",
       "    </tr>\n",
       "    <tr>\n",
       "      <th>14</th>\n",
       "      <td>14</td>\n",
       "      <td>1000_14</td>\n",
       "      <td>180.64</td>\n",
       "      <td>2018-08-11</td>\n",
       "      <td>1000</td>\n",
       "    </tr>\n",
       "  </tbody>\n",
       "</table>\n",
       "</div>"
      ],
      "text/plain": [
       "    Unnamed: 0       id  mb_used session_date  user_id\n",
       "0            0   1000_0   112.95   2018-11-25     1000\n",
       "1            1   1000_1  1052.81   2018-09-07     1000\n",
       "2            2   1000_2  1197.26   2018-06-25     1000\n",
       "3            3   1000_3   550.27   2018-08-22     1000\n",
       "4            4   1000_4   302.56   2018-09-24     1000\n",
       "5            5   1000_5   399.97   2018-10-02     1000\n",
       "6            6   1000_6   540.08   2018-09-07     1000\n",
       "7            7   1000_7   415.70   2018-07-11     1000\n",
       "8            8   1000_8   505.40   2018-10-08     1000\n",
       "9            9   1000_9   345.54   2018-09-03     1000\n",
       "10          10  1000_10   385.14   2018-09-27     1000\n",
       "11          11  1000_11     0.00   2018-08-28     1000\n",
       "12          12  1000_12   375.87   2018-06-20     1000\n",
       "13          13  1000_13   393.83   2018-08-09     1000\n",
       "14          14  1000_14   180.64   2018-08-11     1000"
      ]
     },
     "metadata": {},
     "output_type": "display_data"
    },
    {
     "name": "stdout",
     "output_type": "stream",
     "text": [
      "Уникальных клиентов: 497\n"
     ]
    }
   ],
   "source": [
    "# Ознакомимся с данными интернет-трафика\n",
    "internet_data.info()\n",
    "display(internet_data.head(15))\n",
    "\n",
    "unique_clients = pd.DataFrame(internet_data['user_id'].unique())\n",
    "print('Уникальных клиентов:',unique_clients.shape[0])\n",
    "# Тролько 3 клиента не используют интернет"
   ]
  },
  {
   "cell_type": "markdown",
   "metadata": {},
   "source": [
    "> <span style=\"color:Blue\">\n",
    "    <p>В сете интернет-трафика две проблемы: </p>        \n",
    "    <p>- Лишний столбец дублирует индексы </p>  \n",
    "    <p>- Тоже есть нулевые подключения(не приносят дохода, размывают параметры распределения)</p>\n",
    "</span>"
   ]
  },
  {
   "cell_type": "code",
   "execution_count": 159,
   "metadata": {},
   "outputs": [
    {
     "name": "stdout",
     "output_type": "stream",
     "text": [
      "<class 'pandas.core.frame.DataFrame'>\n",
      "RangeIndex: 2 entries, 0 to 1\n",
      "Data columns (total 8 columns):\n",
      " #   Column                 Non-Null Count  Dtype \n",
      "---  ------                 --------------  ----- \n",
      " 0   messages_included      2 non-null      int64 \n",
      " 1   mb_per_month_included  2 non-null      int64 \n",
      " 2   minutes_included       2 non-null      int64 \n",
      " 3   rub_monthly_fee        2 non-null      int64 \n",
      " 4   rub_per_gb             2 non-null      int64 \n",
      " 5   rub_per_message        2 non-null      int64 \n",
      " 6   rub_per_minute         2 non-null      int64 \n",
      " 7   tariff_name            2 non-null      object\n",
      "dtypes: int64(7), object(1)\n",
      "memory usage: 184.0+ bytes\n"
     ]
    },
    {
     "data": {
      "text/html": [
       "<div>\n",
       "<style scoped>\n",
       "    .dataframe tbody tr th:only-of-type {\n",
       "        vertical-align: middle;\n",
       "    }\n",
       "\n",
       "    .dataframe tbody tr th {\n",
       "        vertical-align: top;\n",
       "    }\n",
       "\n",
       "    .dataframe thead th {\n",
       "        text-align: right;\n",
       "    }\n",
       "</style>\n",
       "<table border=\"1\" class=\"dataframe\">\n",
       "  <thead>\n",
       "    <tr style=\"text-align: right;\">\n",
       "      <th></th>\n",
       "      <th>messages_included</th>\n",
       "      <th>mb_per_month_included</th>\n",
       "      <th>minutes_included</th>\n",
       "      <th>rub_monthly_fee</th>\n",
       "      <th>rub_per_gb</th>\n",
       "      <th>rub_per_message</th>\n",
       "      <th>rub_per_minute</th>\n",
       "      <th>tariff_name</th>\n",
       "    </tr>\n",
       "  </thead>\n",
       "  <tbody>\n",
       "    <tr>\n",
       "      <th>0</th>\n",
       "      <td>50</td>\n",
       "      <td>15360</td>\n",
       "      <td>500</td>\n",
       "      <td>550</td>\n",
       "      <td>200</td>\n",
       "      <td>3</td>\n",
       "      <td>3</td>\n",
       "      <td>smart</td>\n",
       "    </tr>\n",
       "    <tr>\n",
       "      <th>1</th>\n",
       "      <td>1000</td>\n",
       "      <td>30720</td>\n",
       "      <td>3000</td>\n",
       "      <td>1950</td>\n",
       "      <td>150</td>\n",
       "      <td>1</td>\n",
       "      <td>1</td>\n",
       "      <td>ultra</td>\n",
       "    </tr>\n",
       "  </tbody>\n",
       "</table>\n",
       "</div>"
      ],
      "text/plain": [
       "   messages_included  mb_per_month_included  minutes_included  \\\n",
       "0                 50                  15360               500   \n",
       "1               1000                  30720              3000   \n",
       "\n",
       "   rub_monthly_fee  rub_per_gb  rub_per_message  rub_per_minute tariff_name  \n",
       "0              550         200                3               3       smart  \n",
       "1             1950         150                1               1       ultra  "
      ]
     },
     "execution_count": 159,
     "metadata": {},
     "output_type": "execute_result"
    }
   ],
   "source": [
    "# Ознакомимся с данными о тарифах\n",
    "tariffs_data.info()\n",
    "tariffs_data.head()"
   ]
  },
  {
   "cell_type": "markdown",
   "metadata": {},
   "source": [
    "### Ликвидация пропусков"
   ]
  },
  {
   "cell_type": "code",
   "execution_count": 160,
   "metadata": {},
   "outputs": [
    {
     "data": {
      "text/plain": [
       "162994"
      ]
     },
     "execution_count": 160,
     "metadata": {},
     "output_type": "execute_result"
    }
   ],
   "source": [
    "# Убираем звонки с нулевой продолжительностью\n",
    "calls_data = calls_data.query('duration != 0')\n",
    "calls_data.shape[0]\n",
    "# Сет уменьшился почти на 40 тыс. строк"
   ]
  },
  {
   "cell_type": "code",
   "execution_count": 161,
   "metadata": {},
   "outputs": [
    {
     "data": {
      "text/plain": [
       "129798"
      ]
     },
     "execution_count": 161,
     "metadata": {},
     "output_type": "execute_result"
    }
   ],
   "source": [
    "# Убираем интернет соединения с нулевым трафиком\n",
    "internet_data = internet_data.query('mb_used !=0')\n",
    "internet_data.shape[0]\n",
    "# Примерно на 19,6 тыс. строк меньше"
   ]
  },
  {
   "cell_type": "markdown",
   "metadata": {},
   "source": [
    "### Проверка дубликатов"
   ]
  },
  {
   "cell_type": "code",
   "execution_count": 162,
   "metadata": {},
   "outputs": [
    {
     "name": "stdout",
     "output_type": "stream",
     "text": [
      "0\n",
      "0\n",
      "0\n",
      "0\n",
      "0\n"
     ]
    }
   ],
   "source": [
    "print(users_data.duplicated().sum())\n",
    "print(calls_data.duplicated().sum())\n",
    "print(messages_data.duplicated().sum())\n",
    "print(internet_data.duplicated().sum())\n",
    "print(tariffs_data.duplicated().sum())\n",
    "# Дубликатов не обнаружено"
   ]
  },
  {
   "cell_type": "markdown",
   "metadata": {},
   "source": [
    "### Преобразование типов данных"
   ]
  },
  {
   "cell_type": "code",
   "execution_count": 163,
   "metadata": {},
   "outputs": [],
   "source": [
    "# приведем даты в таблицах во временной формат\n",
    "users_data['churn_date'] = pd.to_datetime(users_data['churn_date'], format='%Y-%m-%d')\n",
    "users_data['reg_date'] = pd.to_datetime(users_data['reg_date'], format='%Y-%m-%d')\n",
    "calls_data['call_date'] = pd.to_datetime(calls_data['call_date'], format='%Y-%m-%d')\n",
    "messages_data['message_date'] = pd.to_datetime(messages_data['message_date'], format='%Y-%m-%d')\n",
    "internet_data['session_date'] = pd.to_datetime(internet_data['session_date'], format='%Y-%m-%d')\n"
   ]
  },
  {
   "cell_type": "markdown",
   "metadata": {},
   "source": [
    "### Дополнительная предобработка"
   ]
  },
  {
   "cell_type": "code",
   "execution_count": 164,
   "metadata": {},
   "outputs": [
    {
     "data": {
      "text/html": [
       "<div>\n",
       "<style scoped>\n",
       "    .dataframe tbody tr th:only-of-type {\n",
       "        vertical-align: middle;\n",
       "    }\n",
       "\n",
       "    .dataframe tbody tr th {\n",
       "        vertical-align: top;\n",
       "    }\n",
       "\n",
       "    .dataframe thead th {\n",
       "        text-align: right;\n",
       "    }\n",
       "</style>\n",
       "<table border=\"1\" class=\"dataframe\">\n",
       "  <thead>\n",
       "    <tr style=\"text-align: right;\">\n",
       "      <th></th>\n",
       "      <th>id</th>\n",
       "      <th>mb_used</th>\n",
       "      <th>session_date</th>\n",
       "      <th>user_id</th>\n",
       "    </tr>\n",
       "  </thead>\n",
       "  <tbody>\n",
       "    <tr>\n",
       "      <th>0</th>\n",
       "      <td>1000_0</td>\n",
       "      <td>112.95</td>\n",
       "      <td>2018-11-25</td>\n",
       "      <td>1000</td>\n",
       "    </tr>\n",
       "    <tr>\n",
       "      <th>1</th>\n",
       "      <td>1000_1</td>\n",
       "      <td>1052.81</td>\n",
       "      <td>2018-09-07</td>\n",
       "      <td>1000</td>\n",
       "    </tr>\n",
       "    <tr>\n",
       "      <th>2</th>\n",
       "      <td>1000_2</td>\n",
       "      <td>1197.26</td>\n",
       "      <td>2018-06-25</td>\n",
       "      <td>1000</td>\n",
       "    </tr>\n",
       "    <tr>\n",
       "      <th>3</th>\n",
       "      <td>1000_3</td>\n",
       "      <td>550.27</td>\n",
       "      <td>2018-08-22</td>\n",
       "      <td>1000</td>\n",
       "    </tr>\n",
       "    <tr>\n",
       "      <th>4</th>\n",
       "      <td>1000_4</td>\n",
       "      <td>302.56</td>\n",
       "      <td>2018-09-24</td>\n",
       "      <td>1000</td>\n",
       "    </tr>\n",
       "  </tbody>\n",
       "</table>\n",
       "</div>"
      ],
      "text/plain": [
       "       id  mb_used session_date  user_id\n",
       "0  1000_0   112.95   2018-11-25     1000\n",
       "1  1000_1  1052.81   2018-09-07     1000\n",
       "2  1000_2  1197.26   2018-06-25     1000\n",
       "3  1000_3   550.27   2018-08-22     1000\n",
       "4  1000_4   302.56   2018-09-24     1000"
      ]
     },
     "execution_count": 164,
     "metadata": {},
     "output_type": "execute_result"
    }
   ],
   "source": [
    "# уберем лишний столбец с индексами из internet_data\n",
    "internet_data = internet_data[['id', 'mb_used', 'session_date', 'user_id']]\n",
    "internet_data.head()"
   ]
  },
  {
   "cell_type": "code",
   "execution_count": 165,
   "metadata": {},
   "outputs": [
    {
     "data": {
      "text/plain": [
       "2          2.85\n",
       "3         13.80\n",
       "4          5.18\n",
       "7         18.31\n",
       "8         18.44\n",
       "          ...  \n",
       "202602     0.76\n",
       "202603    18.83\n",
       "202604    10.81\n",
       "202605     4.27\n",
       "202606    19.62\n",
       "Name: duration, Length: 162994, dtype: float64"
      ]
     },
     "metadata": {},
     "output_type": "display_data"
    },
    {
     "data": {
      "text/plain": [
       "2          3.0\n",
       "3         14.0\n",
       "4          6.0\n",
       "7         19.0\n",
       "8         19.0\n",
       "          ... \n",
       "202602     1.0\n",
       "202603    19.0\n",
       "202604    11.0\n",
       "202605     5.0\n",
       "202606    20.0\n",
       "Name: duration, Length: 162994, dtype: float64"
      ]
     },
     "execution_count": 165,
     "metadata": {},
     "output_type": "execute_result"
    }
   ],
   "source": [
    "# Округлим минуты вверх, раз так делает оператор\n",
    "display(calls_data['duration'])\n",
    "calls_data['duration'] = calls_data['duration'].apply(np.ceil)\n",
    "calls_data['duration']"
   ]
  },
  {
   "cell_type": "markdown",
   "metadata": {},
   "source": [
    "## 2. Расчет производных показателей. <a id=2></a>"
   ]
  },
  {
   "cell_type": "code",
   "execution_count": 166,
   "metadata": {},
   "outputs": [
    {
     "data": {
      "text/html": [
       "<div>\n",
       "<style scoped>\n",
       "    .dataframe tbody tr th:only-of-type {\n",
       "        vertical-align: middle;\n",
       "    }\n",
       "\n",
       "    .dataframe tbody tr th {\n",
       "        vertical-align: top;\n",
       "    }\n",
       "\n",
       "    .dataframe thead th {\n",
       "        text-align: right;\n",
       "    }\n",
       "</style>\n",
       "<table border=\"1\" class=\"dataframe\">\n",
       "  <thead>\n",
       "    <tr style=\"text-align: right;\">\n",
       "      <th></th>\n",
       "      <th>user_id</th>\n",
       "      <th>transaction_month</th>\n",
       "      <th>call_durations</th>\n",
       "      <th>message_counts</th>\n",
       "      <th>mb_used</th>\n",
       "      <th>tariff</th>\n",
       "    </tr>\n",
       "  </thead>\n",
       "  <tbody>\n",
       "    <tr>\n",
       "      <th>0</th>\n",
       "      <td>1000</td>\n",
       "      <td>5</td>\n",
       "      <td>159.0</td>\n",
       "      <td>22.0</td>\n",
       "      <td>2253.49</td>\n",
       "      <td>ultra</td>\n",
       "    </tr>\n",
       "    <tr>\n",
       "      <th>1</th>\n",
       "      <td>1000</td>\n",
       "      <td>6</td>\n",
       "      <td>172.0</td>\n",
       "      <td>60.0</td>\n",
       "      <td>23233.77</td>\n",
       "      <td>ultra</td>\n",
       "    </tr>\n",
       "    <tr>\n",
       "      <th>2</th>\n",
       "      <td>1000</td>\n",
       "      <td>7</td>\n",
       "      <td>340.0</td>\n",
       "      <td>75.0</td>\n",
       "      <td>14003.64</td>\n",
       "      <td>ultra</td>\n",
       "    </tr>\n",
       "    <tr>\n",
       "      <th>3</th>\n",
       "      <td>1000</td>\n",
       "      <td>8</td>\n",
       "      <td>408.0</td>\n",
       "      <td>81.0</td>\n",
       "      <td>14055.93</td>\n",
       "      <td>ultra</td>\n",
       "    </tr>\n",
       "    <tr>\n",
       "      <th>4</th>\n",
       "      <td>1000</td>\n",
       "      <td>9</td>\n",
       "      <td>466.0</td>\n",
       "      <td>57.0</td>\n",
       "      <td>14568.91</td>\n",
       "      <td>ultra</td>\n",
       "    </tr>\n",
       "    <tr>\n",
       "      <th>...</th>\n",
       "      <td>...</td>\n",
       "      <td>...</td>\n",
       "      <td>...</td>\n",
       "      <td>...</td>\n",
       "      <td>...</td>\n",
       "      <td>...</td>\n",
       "    </tr>\n",
       "    <tr>\n",
       "      <th>3209</th>\n",
       "      <td>1489</td>\n",
       "      <td>8</td>\n",
       "      <td>0.0</td>\n",
       "      <td>17.0</td>\n",
       "      <td>11050.56</td>\n",
       "      <td>smart</td>\n",
       "    </tr>\n",
       "    <tr>\n",
       "      <th>3210</th>\n",
       "      <td>1489</td>\n",
       "      <td>9</td>\n",
       "      <td>0.0</td>\n",
       "      <td>32.0</td>\n",
       "      <td>17206.30</td>\n",
       "      <td>smart</td>\n",
       "    </tr>\n",
       "    <tr>\n",
       "      <th>3211</th>\n",
       "      <td>1489</td>\n",
       "      <td>10</td>\n",
       "      <td>0.0</td>\n",
       "      <td>21.0</td>\n",
       "      <td>19559.44</td>\n",
       "      <td>smart</td>\n",
       "    </tr>\n",
       "    <tr>\n",
       "      <th>3212</th>\n",
       "      <td>1489</td>\n",
       "      <td>11</td>\n",
       "      <td>0.0</td>\n",
       "      <td>20.0</td>\n",
       "      <td>17491.56</td>\n",
       "      <td>smart</td>\n",
       "    </tr>\n",
       "    <tr>\n",
       "      <th>3213</th>\n",
       "      <td>1489</td>\n",
       "      <td>12</td>\n",
       "      <td>0.0</td>\n",
       "      <td>35.0</td>\n",
       "      <td>17322.51</td>\n",
       "      <td>smart</td>\n",
       "    </tr>\n",
       "  </tbody>\n",
       "</table>\n",
       "<p>3214 rows × 6 columns</p>\n",
       "</div>"
      ],
      "text/plain": [
       "      user_id  transaction_month  call_durations  message_counts   mb_used  \\\n",
       "0        1000                  5           159.0            22.0   2253.49   \n",
       "1        1000                  6           172.0            60.0  23233.77   \n",
       "2        1000                  7           340.0            75.0  14003.64   \n",
       "3        1000                  8           408.0            81.0  14055.93   \n",
       "4        1000                  9           466.0            57.0  14568.91   \n",
       "...       ...                ...             ...             ...       ...   \n",
       "3209     1489                  8             0.0            17.0  11050.56   \n",
       "3210     1489                  9             0.0            32.0  17206.30   \n",
       "3211     1489                 10             0.0            21.0  19559.44   \n",
       "3212     1489                 11             0.0            20.0  17491.56   \n",
       "3213     1489                 12             0.0            35.0  17322.51   \n",
       "\n",
       "     tariff  \n",
       "0     ultra  \n",
       "1     ultra  \n",
       "2     ultra  \n",
       "3     ultra  \n",
       "4     ultra  \n",
       "...     ...  \n",
       "3209  smart  \n",
       "3210  smart  \n",
       "3211  smart  \n",
       "3212  smart  \n",
       "3213  smart  \n",
       "\n",
       "[3214 rows x 6 columns]"
      ]
     },
     "execution_count": 166,
     "metadata": {},
     "output_type": "execute_result"
    }
   ],
   "source": [
    "# Для определения показателей каждого клиента по месяцам добавим в соответствующие таблицы...\n",
    "#...колонку с  месяцем операции\n",
    "calls_data['transaction_month'] = calls_data['call_date'].dt.month\n",
    "messages_data['transaction_month'] = messages_data['message_date'].dt.month\n",
    "internet_data['transaction_month'] = internet_data['session_date'].dt.month\n",
    "\n",
    "# и сгруппируем по клиенту и месяцу\n",
    "id_calls_data = calls_data.groupby(['user_id', 'transaction_month']).sum()\n",
    "id_messages_data = messages_data.groupby(['user_id', 'transaction_month']).count()\n",
    "id_internet_data = internet_data.groupby(['user_id', 'transaction_month']).sum()\n",
    "\n",
    "# объединим в единую таблицу\n",
    "id_full_data = id_calls_data.merge(\n",
    "    id_messages_data[\"message_date\"],\n",
    "    how=\"outer\",\n",
    "    left_on=([\"user_id\", \"transaction_month\"]),\n",
    "    right_on=([\"user_id\", \"transaction_month\"]),\n",
    ").merge(\n",
    "    id_internet_data[\"mb_used\"],\n",
    "    how=\"outer\",\n",
    "    left_on=([\"user_id\", \"transaction_month\"]),\n",
    "    right_on=([\"user_id\", \"transaction_month\"]),\n",
    ")\n",
    "\n",
    "# при объединении, в столбцах услуг, которые данный клиент не использовал получилось значение NaN\n",
    "# в действительности это то-же самое, что ноль потраченных минут, мегабайт, или смс\n",
    "# так что заменим NaN на ноль \n",
    "id_full_data = id_full_data.fillna(0)\n",
    "\n",
    "# назначим более понятные названия столбцов\n",
    "id_full_data.columns = ['call_durations','message_counts','mb_used']\n",
    "\n",
    "#добавим тариф\n",
    "id_full_data = id_full_data.reset_index().merge(\n",
    "    users_data[[\"user_id\", \"tariff\"]], left_on=\"user_id\", right_on=\"user_id\"\n",
    ")\n",
    "\n",
    "id_full_data"
   ]
  },
  {
   "cell_type": "code",
   "execution_count": 167,
   "metadata": {},
   "outputs": [
    {
     "data": {
      "text/html": [
       "<div>\n",
       "<style scoped>\n",
       "    .dataframe tbody tr th:only-of-type {\n",
       "        vertical-align: middle;\n",
       "    }\n",
       "\n",
       "    .dataframe tbody tr th {\n",
       "        vertical-align: top;\n",
       "    }\n",
       "\n",
       "    .dataframe thead th {\n",
       "        text-align: right;\n",
       "    }\n",
       "</style>\n",
       "<table border=\"1\" class=\"dataframe\">\n",
       "  <thead>\n",
       "    <tr style=\"text-align: right;\">\n",
       "      <th></th>\n",
       "      <th>user_id</th>\n",
       "      <th>transaction_month</th>\n",
       "      <th>call_durations</th>\n",
       "      <th>message_counts</th>\n",
       "      <th>mb_used</th>\n",
       "      <th>tariff</th>\n",
       "      <th>messages_included</th>\n",
       "      <th>mb_per_month_included</th>\n",
       "      <th>minutes_included</th>\n",
       "      <th>rub_monthly_fee</th>\n",
       "      <th>rub_per_gb</th>\n",
       "      <th>rub_per_message</th>\n",
       "      <th>rub_per_minute</th>\n",
       "    </tr>\n",
       "  </thead>\n",
       "  <tbody>\n",
       "    <tr>\n",
       "      <th>0</th>\n",
       "      <td>1000</td>\n",
       "      <td>5</td>\n",
       "      <td>159.0</td>\n",
       "      <td>22.0</td>\n",
       "      <td>2253.49</td>\n",
       "      <td>ultra</td>\n",
       "      <td>1000</td>\n",
       "      <td>30720</td>\n",
       "      <td>3000</td>\n",
       "      <td>1950</td>\n",
       "      <td>150</td>\n",
       "      <td>1</td>\n",
       "      <td>1</td>\n",
       "    </tr>\n",
       "    <tr>\n",
       "      <th>1</th>\n",
       "      <td>1000</td>\n",
       "      <td>6</td>\n",
       "      <td>172.0</td>\n",
       "      <td>60.0</td>\n",
       "      <td>23233.77</td>\n",
       "      <td>ultra</td>\n",
       "      <td>1000</td>\n",
       "      <td>30720</td>\n",
       "      <td>3000</td>\n",
       "      <td>1950</td>\n",
       "      <td>150</td>\n",
       "      <td>1</td>\n",
       "      <td>1</td>\n",
       "    </tr>\n",
       "    <tr>\n",
       "      <th>2</th>\n",
       "      <td>1000</td>\n",
       "      <td>7</td>\n",
       "      <td>340.0</td>\n",
       "      <td>75.0</td>\n",
       "      <td>14003.64</td>\n",
       "      <td>ultra</td>\n",
       "      <td>1000</td>\n",
       "      <td>30720</td>\n",
       "      <td>3000</td>\n",
       "      <td>1950</td>\n",
       "      <td>150</td>\n",
       "      <td>1</td>\n",
       "      <td>1</td>\n",
       "    </tr>\n",
       "    <tr>\n",
       "      <th>3</th>\n",
       "      <td>1000</td>\n",
       "      <td>8</td>\n",
       "      <td>408.0</td>\n",
       "      <td>81.0</td>\n",
       "      <td>14055.93</td>\n",
       "      <td>ultra</td>\n",
       "      <td>1000</td>\n",
       "      <td>30720</td>\n",
       "      <td>3000</td>\n",
       "      <td>1950</td>\n",
       "      <td>150</td>\n",
       "      <td>1</td>\n",
       "      <td>1</td>\n",
       "    </tr>\n",
       "    <tr>\n",
       "      <th>4</th>\n",
       "      <td>1000</td>\n",
       "      <td>9</td>\n",
       "      <td>466.0</td>\n",
       "      <td>57.0</td>\n",
       "      <td>14568.91</td>\n",
       "      <td>ultra</td>\n",
       "      <td>1000</td>\n",
       "      <td>30720</td>\n",
       "      <td>3000</td>\n",
       "      <td>1950</td>\n",
       "      <td>150</td>\n",
       "      <td>1</td>\n",
       "      <td>1</td>\n",
       "    </tr>\n",
       "    <tr>\n",
       "      <th>...</th>\n",
       "      <td>...</td>\n",
       "      <td>...</td>\n",
       "      <td>...</td>\n",
       "      <td>...</td>\n",
       "      <td>...</td>\n",
       "      <td>...</td>\n",
       "      <td>...</td>\n",
       "      <td>...</td>\n",
       "      <td>...</td>\n",
       "      <td>...</td>\n",
       "      <td>...</td>\n",
       "      <td>...</td>\n",
       "      <td>...</td>\n",
       "    </tr>\n",
       "    <tr>\n",
       "      <th>3209</th>\n",
       "      <td>1489</td>\n",
       "      <td>8</td>\n",
       "      <td>0.0</td>\n",
       "      <td>17.0</td>\n",
       "      <td>11050.56</td>\n",
       "      <td>smart</td>\n",
       "      <td>50</td>\n",
       "      <td>15360</td>\n",
       "      <td>500</td>\n",
       "      <td>550</td>\n",
       "      <td>200</td>\n",
       "      <td>3</td>\n",
       "      <td>3</td>\n",
       "    </tr>\n",
       "    <tr>\n",
       "      <th>3210</th>\n",
       "      <td>1489</td>\n",
       "      <td>9</td>\n",
       "      <td>0.0</td>\n",
       "      <td>32.0</td>\n",
       "      <td>17206.30</td>\n",
       "      <td>smart</td>\n",
       "      <td>50</td>\n",
       "      <td>15360</td>\n",
       "      <td>500</td>\n",
       "      <td>550</td>\n",
       "      <td>200</td>\n",
       "      <td>3</td>\n",
       "      <td>3</td>\n",
       "    </tr>\n",
       "    <tr>\n",
       "      <th>3211</th>\n",
       "      <td>1489</td>\n",
       "      <td>10</td>\n",
       "      <td>0.0</td>\n",
       "      <td>21.0</td>\n",
       "      <td>19559.44</td>\n",
       "      <td>smart</td>\n",
       "      <td>50</td>\n",
       "      <td>15360</td>\n",
       "      <td>500</td>\n",
       "      <td>550</td>\n",
       "      <td>200</td>\n",
       "      <td>3</td>\n",
       "      <td>3</td>\n",
       "    </tr>\n",
       "    <tr>\n",
       "      <th>3212</th>\n",
       "      <td>1489</td>\n",
       "      <td>11</td>\n",
       "      <td>0.0</td>\n",
       "      <td>20.0</td>\n",
       "      <td>17491.56</td>\n",
       "      <td>smart</td>\n",
       "      <td>50</td>\n",
       "      <td>15360</td>\n",
       "      <td>500</td>\n",
       "      <td>550</td>\n",
       "      <td>200</td>\n",
       "      <td>3</td>\n",
       "      <td>3</td>\n",
       "    </tr>\n",
       "    <tr>\n",
       "      <th>3213</th>\n",
       "      <td>1489</td>\n",
       "      <td>12</td>\n",
       "      <td>0.0</td>\n",
       "      <td>35.0</td>\n",
       "      <td>17322.51</td>\n",
       "      <td>smart</td>\n",
       "      <td>50</td>\n",
       "      <td>15360</td>\n",
       "      <td>500</td>\n",
       "      <td>550</td>\n",
       "      <td>200</td>\n",
       "      <td>3</td>\n",
       "      <td>3</td>\n",
       "    </tr>\n",
       "  </tbody>\n",
       "</table>\n",
       "<p>3214 rows × 13 columns</p>\n",
       "</div>"
      ],
      "text/plain": [
       "      user_id  transaction_month  call_durations  message_counts   mb_used  \\\n",
       "0        1000                  5           159.0            22.0   2253.49   \n",
       "1        1000                  6           172.0            60.0  23233.77   \n",
       "2        1000                  7           340.0            75.0  14003.64   \n",
       "3        1000                  8           408.0            81.0  14055.93   \n",
       "4        1000                  9           466.0            57.0  14568.91   \n",
       "...       ...                ...             ...             ...       ...   \n",
       "3209     1489                  8             0.0            17.0  11050.56   \n",
       "3210     1489                  9             0.0            32.0  17206.30   \n",
       "3211     1489                 10             0.0            21.0  19559.44   \n",
       "3212     1489                 11             0.0            20.0  17491.56   \n",
       "3213     1489                 12             0.0            35.0  17322.51   \n",
       "\n",
       "     tariff  messages_included  mb_per_month_included  minutes_included  \\\n",
       "0     ultra               1000                  30720              3000   \n",
       "1     ultra               1000                  30720              3000   \n",
       "2     ultra               1000                  30720              3000   \n",
       "3     ultra               1000                  30720              3000   \n",
       "4     ultra               1000                  30720              3000   \n",
       "...     ...                ...                    ...               ...   \n",
       "3209  smart                 50                  15360               500   \n",
       "3210  smart                 50                  15360               500   \n",
       "3211  smart                 50                  15360               500   \n",
       "3212  smart                 50                  15360               500   \n",
       "3213  smart                 50                  15360               500   \n",
       "\n",
       "      rub_monthly_fee  rub_per_gb  rub_per_message  rub_per_minute  \n",
       "0                1950         150                1               1  \n",
       "1                1950         150                1               1  \n",
       "2                1950         150                1               1  \n",
       "3                1950         150                1               1  \n",
       "4                1950         150                1               1  \n",
       "...               ...         ...              ...             ...  \n",
       "3209              550         200                3               3  \n",
       "3210              550         200                3               3  \n",
       "3211              550         200                3               3  \n",
       "3212              550         200                3               3  \n",
       "3213              550         200                3               3  \n",
       "\n",
       "[3214 rows x 13 columns]"
      ]
     },
     "execution_count": 167,
     "metadata": {},
     "output_type": "execute_result"
    }
   ],
   "source": [
    "# Чтобы дальше можно было считать колонками добавим так же данные тарифов\n",
    "id_full_data = id_full_data.merge(tariffs_data, left_on='tariff', right_on='tariff_name')\n",
    "#id_full_data\n",
    "#получится лишняя колонка tariff_name, которую лучше сбросить\n",
    "id_full_data.drop(('tariff_name'), axis='columns', inplace=True)\n",
    "id_full_data"
   ]
  },
  {
   "cell_type": "code",
   "execution_count": 168,
   "metadata": {},
   "outputs": [
    {
     "data": {
      "text/plain": [
       "0       0.0\n",
       "1       0.0\n",
       "2       0.0\n",
       "3       0.0\n",
       "4       0.0\n",
       "       ... \n",
       "3209    0.0\n",
       "3210    0.0\n",
       "3211    0.0\n",
       "3212    0.0\n",
       "3213    0.0\n",
       "Name: overlim_call_time_costs, Length: 3214, dtype: float64"
      ]
     },
     "execution_count": 168,
     "metadata": {},
     "output_type": "execute_result"
    }
   ],
   "source": [
    "# Дальше считаем колонками\n",
    "\n",
    "# сверхлимитное время звонков\n",
    "id_full_data['overlim_call_time'] = id_full_data['call_durations'] - id_full_data['minutes_included']\n",
    "# если оно отрицательное, значит количество сверхлимитного времени равно нулю \n",
    "id_full_data.loc[id_full_data['overlim_call_time'] < 0,'overlim_call_time'] = 0\n",
    "id_full_data['overlim_call_time']\n",
    "\n",
    "# доходы оператора от сверхлимитных звонков\n",
    "id_full_data['overlim_call_time_costs'] = id_full_data['overlim_call_time']*id_full_data['rub_per_minute']\n",
    "id_full_data['overlim_call_time_costs']"
   ]
  },
  {
   "cell_type": "code",
   "execution_count": 169,
   "metadata": {},
   "outputs": [
    {
     "data": {
      "text/plain": [
       "0       0.0\n",
       "1       0.0\n",
       "2       0.0\n",
       "3       0.0\n",
       "4       0.0\n",
       "       ... \n",
       "3209    0.0\n",
       "3210    0.0\n",
       "3211    0.0\n",
       "3212    0.0\n",
       "3213    0.0\n",
       "Name: overlim_messages_costs, Length: 3214, dtype: float64"
      ]
     },
     "execution_count": 169,
     "metadata": {},
     "output_type": "execute_result"
    }
   ],
   "source": [
    "# сверхлимитные сообщения\n",
    "id_full_data['overlim_messages'] = id_full_data['message_counts'] - id_full_data['messages_included']\n",
    "# как и ранее, отрицательные значения - это ноль сверхлимитных сообщений\n",
    "id_full_data.loc[id_full_data['overlim_messages'] < 0,'overlim_messages'] = 0\n",
    "#id_full_data['overlim_messages']\n",
    "\n",
    "# доходы оператора от сверхлимитных сообщений\n",
    "id_full_data['overlim_messages_costs'] = id_full_data['overlim_messages']*id_full_data['rub_per_message']\n",
    "id_full_data['overlim_messages_costs']"
   ]
  },
  {
   "cell_type": "code",
   "execution_count": 170,
   "metadata": {},
   "outputs": [
    {
     "data": {
      "text/plain": [
       "0         0.000000\n",
       "1         0.000000\n",
       "2         0.000000\n",
       "3         0.000000\n",
       "4         0.000000\n",
       "           ...    \n",
       "3209      0.000000\n",
       "3210    360.605469\n",
       "3211    820.203125\n",
       "3212    416.320313\n",
       "3213    383.302734\n",
       "Name: overlim_internet_costs, Length: 3214, dtype: float64"
      ]
     },
     "execution_count": 170,
     "metadata": {},
     "output_type": "execute_result"
    }
   ],
   "source": [
    "# сверхлимитный интернет\n",
    "id_full_data['overlim_internet'] = id_full_data['mb_used'] - id_full_data['mb_per_month_included']\n",
    "# как и ранее, отрицательные значения - это ноль сверхлимитных мегабайт\n",
    "id_full_data.loc[id_full_data['overlim_internet'] < 0, 'overlim_internet'] = 0\n",
    "id_full_data['overlim_internet']\n",
    "\n",
    "# доходы оператора от сверхлимитного интернета\n",
    "id_full_data['overlim_internet_costs'] = (id_full_data['overlim_internet']/1024)*id_full_data['rub_per_gb']\n",
    "id_full_data['overlim_internet_costs'] "
   ]
  },
  {
   "cell_type": "code",
   "execution_count": 171,
   "metadata": {},
   "outputs": [
    {
     "data": {
      "text/plain": [
       "0       1950.000000\n",
       "1       1950.000000\n",
       "2       1950.000000\n",
       "3       1950.000000\n",
       "4       1950.000000\n",
       "           ...     \n",
       "3209     550.000000\n",
       "3210     910.605469\n",
       "3211    1370.203125\n",
       "3212     966.320313\n",
       "3213     933.302734\n",
       "Name: full_costs, Length: 3214, dtype: float64"
      ]
     },
     "metadata": {},
     "output_type": "display_data"
    },
    {
     "name": "stdout",
     "output_type": "stream",
     "text": [
      "Наиболее частые значения выручки:\n",
      " 1950.000000    851\n",
      "550.000000     567\n",
      "589.000000       7\n",
      "592.000000       6\n",
      "604.000000       6\n",
      "              ... \n",
      "2581.513672      1\n",
      "2538.468750      1\n",
      "2066.498047      1\n",
      "1728.033203      1\n",
      "865.990234       1\n",
      "Name: full_costs, Length: 1612, dtype: int64\n"
     ]
    }
   ],
   "source": [
    "# совокупный доход\n",
    "id_full_data['full_costs'] = (\n",
    "    id_full_data['overlim_call_time_costs'] \n",
    "    + id_full_data['overlim_messages_costs'] \n",
    "    + id_full_data['overlim_internet_costs']\n",
    "    + id_full_data['rub_monthly_fee']\n",
    ")\n",
    "display(id_full_data['full_costs'])\n",
    "print('Наиболее частые значения выручки:\\n', id_full_data['full_costs'].value_counts())"
   ]
  },
  {
   "cell_type": "markdown",
   "metadata": {},
   "source": [
    "> <span style='color:Blue'>Самые распространенные значения выручки на одного клиента в месяц соответствуют размерам абонентской платы. Т.е. большое количество клиентов укладывается в ограничения тарифов.</span>"
   ]
  },
  {
   "cell_type": "markdown",
   "metadata": {},
   "source": [
    "## 3. Исследовательский анализ данных. <a id=3></a>"
   ]
  },
  {
   "cell_type": "markdown",
   "metadata": {},
   "source": [
    "### Описание распределний. "
   ]
  },
  {
   "cell_type": "code",
   "execution_count": 172,
   "metadata": {},
   "outputs": [
    {
     "name": "stdout",
     "output_type": "stream",
     "text": [
      "Сравнение распределений длительности звонков в месяц(мин.)\n"
     ]
    },
    {
     "data": {
      "text/html": [
       "<div>\n",
       "<style scoped>\n",
       "    .dataframe tbody tr th:only-of-type {\n",
       "        vertical-align: middle;\n",
       "    }\n",
       "\n",
       "    .dataframe tbody tr th {\n",
       "        vertical-align: top;\n",
       "    }\n",
       "\n",
       "    .dataframe thead th {\n",
       "        text-align: right;\n",
       "    }\n",
       "</style>\n",
       "<table border=\"1\" class=\"dataframe\">\n",
       "  <thead>\n",
       "    <tr style=\"text-align: right;\">\n",
       "      <th></th>\n",
       "      <th>metrics</th>\n",
       "      <th>smart_duration</th>\n",
       "      <th>ultra_duration</th>\n",
       "    </tr>\n",
       "  </thead>\n",
       "  <tbody>\n",
       "    <tr>\n",
       "      <th>0</th>\n",
       "      <td>count</td>\n",
       "      <td>2229.000000</td>\n",
       "      <td>985.000000</td>\n",
       "    </tr>\n",
       "    <tr>\n",
       "      <th>1</th>\n",
       "      <td>mean</td>\n",
       "      <td>417.934948</td>\n",
       "      <td>526.623350</td>\n",
       "    </tr>\n",
       "    <tr>\n",
       "      <th>2</th>\n",
       "      <td>std</td>\n",
       "      <td>190.313730</td>\n",
       "      <td>317.606098</td>\n",
       "    </tr>\n",
       "    <tr>\n",
       "      <th>3</th>\n",
       "      <td>min</td>\n",
       "      <td>0.000000</td>\n",
       "      <td>0.000000</td>\n",
       "    </tr>\n",
       "    <tr>\n",
       "      <th>4</th>\n",
       "      <td>25%</td>\n",
       "      <td>282.000000</td>\n",
       "      <td>284.000000</td>\n",
       "    </tr>\n",
       "    <tr>\n",
       "      <th>5</th>\n",
       "      <td>50%</td>\n",
       "      <td>422.000000</td>\n",
       "      <td>518.000000</td>\n",
       "    </tr>\n",
       "    <tr>\n",
       "      <th>6</th>\n",
       "      <td>75%</td>\n",
       "      <td>545.000000</td>\n",
       "      <td>752.000000</td>\n",
       "    </tr>\n",
       "    <tr>\n",
       "      <th>7</th>\n",
       "      <td>max</td>\n",
       "      <td>1435.000000</td>\n",
       "      <td>1673.000000</td>\n",
       "    </tr>\n",
       "  </tbody>\n",
       "</table>\n",
       "</div>"
      ],
      "text/plain": [
       "  metrics  smart_duration  ultra_duration\n",
       "0   count     2229.000000      985.000000\n",
       "1    mean      417.934948      526.623350\n",
       "2     std      190.313730      317.606098\n",
       "3     min        0.000000        0.000000\n",
       "4     25%      282.000000      284.000000\n",
       "5     50%      422.000000      518.000000\n",
       "6     75%      545.000000      752.000000\n",
       "7     max     1435.000000     1673.000000"
      ]
     },
     "metadata": {},
     "output_type": "display_data"
    },
    {
     "name": "stdout",
     "output_type": "stream",
     "text": [
      "Дисперсия времени звонков в месяц по smart: 36219.32\n",
      "Дисперсия времени звонков в месяц по ultra: 100873.63\n"
     ]
    }
   ],
   "source": [
    "# Сколько минут разговора, требуется пользователям каждого тарифа в месяц?\n",
    "print('Сравнение распределений длительности звонков в месяц(мин.)')\n",
    "smart_descr = pd.DataFrame(id_full_data.query('tariff == \"smart\"')['call_durations'].describe()).reset_index()\n",
    "ultra_descr = pd.DataFrame(id_full_data.query('tariff == \"ultra\"')['call_durations'].describe()).reset_index()\n",
    "duration_comparison = smart_descr.merge(ultra_descr, how='outer', left_on='index',right_on='index' )\n",
    "duration_comparison.columns=['metrics', 'smart_duration', 'ultra_duration']\n",
    "display(duration_comparison)\n",
    "variance_estimate_smart = np.var(id_full_data.query('tariff == \"smart\"')['call_durations'], ddof=1)\n",
    "variance_estimate_ultra = np.var(id_full_data.query('tariff == \"ultra\"')['call_durations'], ddof=1)\n",
    "\n",
    "print('Дисперсия времени звонков в месяц по smart: {:.2f}'.format(variance_estimate_smart))\n",
    "print('Дисперсия времени звонков в месяц по ultra: {:.2f}'.format(variance_estimate_ultra))"
   ]
  },
  {
   "cell_type": "code",
   "execution_count": 173,
   "metadata": {},
   "outputs": [
    {
     "data": {
      "image/png": "[encoded data removed]",
      "text/plain": [
       "<Figure size 864x504 with 1 Axes>"
      ]
     },
     "metadata": {
      "needs_background": "light"
     },
     "output_type": "display_data"
    }
   ],
   "source": [
    "# Визуализация распределения длительности звонков в месяц\n",
    "fig, ax = plt.subplots()\n",
    "ax.hist(id_full_data.query('tariff == \"smart\"')['call_durations'],bins=200, alpha=0.7, label='smart')\n",
    "ax.hist(id_full_data.query('tariff == \"ultra\"')['call_durations'],bins=200, alpha=0.7, label='ultra')\n",
    "fig.set_figwidth(12)\n",
    "fig.set_figheight(7)\n",
    "ax.set_xlabel('Длительность звонков за месяц (мин.)')\n",
    "ax.set_ylabel('Количество человек/месяцев (ед.)')\n",
    "plt.title('Распределение длительности звонков в месяц для тарифов \"Смарт\" и \"Ультра\"\\n')\n",
    "plt.legend()\n",
    "plt.show()"
   ]
  },
  {
   "cell_type": "markdown",
   "metadata": {},
   "source": [
    "> <span style='color:Blue'> Распределение для клиентов тарифа smart при звонках более плотное, стандартное отклонение значительно меньше. Это говорит о большей однородности поведения абонантов. </span>\n",
    "> <p><span style='color:Blue'> В то же время, поведение клиентов тарифа ultra разнородно. Некоторые из них (в нескольео раз больше чем на smart) вообще не использовали тариф для телефонной связи. Значимое количество разговаривало более 1000 минут в месяц.  </span></p>\n",
    "> <p><span style='color:Blue'> В среднем владельцы ultra более активно используют телефонную связь.  </span></p>"
   ]
  },
  {
   "cell_type": "code",
   "execution_count": 174,
   "metadata": {},
   "outputs": [
    {
     "name": "stdout",
     "output_type": "stream",
     "text": [
      "Сравнение распределений количества сообщений в месяц(шт.)\n"
     ]
    },
    {
     "data": {
      "text/html": [
       "<div>\n",
       "<style scoped>\n",
       "    .dataframe tbody tr th:only-of-type {\n",
       "        vertical-align: middle;\n",
       "    }\n",
       "\n",
       "    .dataframe tbody tr th {\n",
       "        vertical-align: top;\n",
       "    }\n",
       "\n",
       "    .dataframe thead th {\n",
       "        text-align: right;\n",
       "    }\n",
       "</style>\n",
       "<table border=\"1\" class=\"dataframe\">\n",
       "  <thead>\n",
       "    <tr style=\"text-align: right;\">\n",
       "      <th></th>\n",
       "      <th>metrics</th>\n",
       "      <th>smart_messages</th>\n",
       "      <th>ultra_messages</th>\n",
       "    </tr>\n",
       "  </thead>\n",
       "  <tbody>\n",
       "    <tr>\n",
       "      <th>0</th>\n",
       "      <td>count</td>\n",
       "      <td>2229.000000</td>\n",
       "      <td>985.000000</td>\n",
       "    </tr>\n",
       "    <tr>\n",
       "      <th>1</th>\n",
       "      <td>mean</td>\n",
       "      <td>33.384029</td>\n",
       "      <td>49.363452</td>\n",
       "    </tr>\n",
       "    <tr>\n",
       "      <th>2</th>\n",
       "      <td>std</td>\n",
       "      <td>28.227876</td>\n",
       "      <td>47.804457</td>\n",
       "    </tr>\n",
       "    <tr>\n",
       "      <th>3</th>\n",
       "      <td>min</td>\n",
       "      <td>0.000000</td>\n",
       "      <td>0.000000</td>\n",
       "    </tr>\n",
       "    <tr>\n",
       "      <th>4</th>\n",
       "      <td>25%</td>\n",
       "      <td>10.000000</td>\n",
       "      <td>6.000000</td>\n",
       "    </tr>\n",
       "    <tr>\n",
       "      <th>5</th>\n",
       "      <td>50%</td>\n",
       "      <td>28.000000</td>\n",
       "      <td>38.000000</td>\n",
       "    </tr>\n",
       "    <tr>\n",
       "      <th>6</th>\n",
       "      <td>75%</td>\n",
       "      <td>51.000000</td>\n",
       "      <td>79.000000</td>\n",
       "    </tr>\n",
       "    <tr>\n",
       "      <th>7</th>\n",
       "      <td>max</td>\n",
       "      <td>143.000000</td>\n",
       "      <td>224.000000</td>\n",
       "    </tr>\n",
       "  </tbody>\n",
       "</table>\n",
       "</div>"
      ],
      "text/plain": [
       "  metrics  smart_messages  ultra_messages\n",
       "0   count     2229.000000      985.000000\n",
       "1    mean       33.384029       49.363452\n",
       "2     std       28.227876       47.804457\n",
       "3     min        0.000000        0.000000\n",
       "4     25%       10.000000        6.000000\n",
       "5     50%       28.000000       38.000000\n",
       "6     75%       51.000000       79.000000\n",
       "7     max      143.000000      224.000000"
      ]
     },
     "metadata": {},
     "output_type": "display_data"
    },
    {
     "name": "stdout",
     "output_type": "stream",
     "text": [
      "Дисперсия количества сообщений в месяц по smart: 796.81\n",
      "Дисперсия количества сообщений в месяц по ultra: 2285.27\n"
     ]
    }
   ],
   "source": [
    "# Cколько сообщений требуется пользователям каждого тарифа в месяц? \n",
    "print('Сравнение распределений количества сообщений в месяц(шт.)')\n",
    "smart_descr = pd.DataFrame(id_full_data.query('tariff == \"smart\"')['message_counts'].describe()).reset_index()\n",
    "ultra_descr = pd.DataFrame(id_full_data.query('tariff == \"ultra\"')['message_counts'].describe()).reset_index()\n",
    "duration_comparison = smart_descr.merge(ultra_descr, how='outer', left_on='index',right_on='index' )\n",
    "duration_comparison.columns=['metrics', 'smart_messages', 'ultra_messages']\n",
    "display(duration_comparison)\n",
    "variance_estimate_smart = np.var(id_full_data.query('tariff == \"smart\"')['message_counts'], ddof=1)\n",
    "variance_estimate_ultra = np.var(id_full_data.query('tariff == \"ultra\"')['message_counts'], ddof=1)\n",
    "\n",
    "print('Дисперсия количества сообщений в месяц по smart: {:.2f}'.format(variance_estimate_smart))\n",
    "print('Дисперсия количества сообщений в месяц по ultra: {:.2f}'.format(variance_estimate_ultra))"
   ]
  },
  {
   "cell_type": "code",
   "execution_count": 175,
   "metadata": {},
   "outputs": [
    {
     "data": {
      "image/png": "[encoded data removed]",
      "text/plain": [
       "<Figure size 864x504 with 1 Axes>"
      ]
     },
     "metadata": {
      "needs_background": "light"
     },
     "output_type": "display_data"
    },
    {
     "name": "stdout",
     "output_type": "stream",
     "text": [
      "0.0     307\n",
      "20.0     39\n",
      "16.0     38\n",
      "Name: message_counts, dtype: int64\n",
      "0.0     190\n",
      "6.0      13\n",
      "20.0     13\n",
      "Name: message_counts, dtype: int64\n"
     ]
    }
   ],
   "source": [
    "# Визуализация распределения количества сообщений в месяц\n",
    "fig, ax = plt.subplots()\n",
    "ax.hist(id_full_data.query('tariff == \"smart\"')['message_counts'],bins=200, alpha=0.7, label='smart')\n",
    "ax.hist(id_full_data.query('tariff == \"ultra\"')['message_counts'],bins=200, alpha=0.7, label='ultra')\n",
    "fig.set_figwidth(12)\n",
    "fig.set_figheight(7)\n",
    "ax.set_xlabel('Количество сообщений (шт.)')\n",
    "ax.set_ylabel('Количество человек/месяцев (ед.)')\n",
    "plt.title('Распределение количества сообщений в месяц для тарифов \"Смарт\" и \"Ультра\"\\n')\n",
    "plt.legend()\n",
    "plt.show()\n",
    "\n",
    "# Самые частые значения\n",
    "print(id_full_data.query('tariff == \"smart\"')['message_counts'].value_counts().head(3))\n",
    "print(id_full_data.query('tariff == \"ultra\"')['message_counts'].value_counts().head(3))"
   ]
  },
  {
   "cell_type": "markdown",
   "metadata": {},
   "source": [
    "> <span style='color:Blue'> Распределение использования сообщений похоже на аналогичное по звонкам в смысле большей однородности по тарифу smart.  </span>\n",
    "> <p><span style='color:Blue'> Различие заключается в том, что большее абсолютное количество человек/месяцев без использования сообщений(307) наблюдается на тарифе smart (в отличие от звонков) </span></p>\n",
    "> <p><span style='color:Blue'> В среднем владельцы ultra более активно используют сообщения, но стоит отметить, что по обоим тарифам наблюдается большой процент неиспользования услуги: 14% по smart  и 19% по ultra.  </span></p>"
   ]
  },
  {
   "cell_type": "code",
   "execution_count": 176,
   "metadata": {},
   "outputs": [
    {
     "name": "stdout",
     "output_type": "stream",
     "text": [
      "Сравнение распределений использованного интернет-трафика в месяц(Мб.)\n"
     ]
    },
    {
     "data": {
      "text/html": [
       "<div>\n",
       "<style scoped>\n",
       "    .dataframe tbody tr th:only-of-type {\n",
       "        vertical-align: middle;\n",
       "    }\n",
       "\n",
       "    .dataframe tbody tr th {\n",
       "        vertical-align: top;\n",
       "    }\n",
       "\n",
       "    .dataframe thead th {\n",
       "        text-align: right;\n",
       "    }\n",
       "</style>\n",
       "<table border=\"1\" class=\"dataframe\">\n",
       "  <thead>\n",
       "    <tr style=\"text-align: right;\">\n",
       "      <th></th>\n",
       "      <th>metrics</th>\n",
       "      <th>smart_mb</th>\n",
       "      <th>ultra_mb</th>\n",
       "    </tr>\n",
       "  </thead>\n",
       "  <tbody>\n",
       "    <tr>\n",
       "      <th>0</th>\n",
       "      <td>count</td>\n",
       "      <td>2229.000000</td>\n",
       "      <td>985.000000</td>\n",
       "    </tr>\n",
       "    <tr>\n",
       "      <th>1</th>\n",
       "      <td>mean</td>\n",
       "      <td>16208.386990</td>\n",
       "      <td>19468.805208</td>\n",
       "    </tr>\n",
       "    <tr>\n",
       "      <th>2</th>\n",
       "      <td>std</td>\n",
       "      <td>5870.476681</td>\n",
       "      <td>10087.170752</td>\n",
       "    </tr>\n",
       "    <tr>\n",
       "      <th>3</th>\n",
       "      <td>min</td>\n",
       "      <td>0.000000</td>\n",
       "      <td>0.000000</td>\n",
       "    </tr>\n",
       "    <tr>\n",
       "      <th>4</th>\n",
       "      <td>25%</td>\n",
       "      <td>12643.010000</td>\n",
       "      <td>11770.260000</td>\n",
       "    </tr>\n",
       "    <tr>\n",
       "      <th>5</th>\n",
       "      <td>50%</td>\n",
       "      <td>16506.840000</td>\n",
       "      <td>19308.010000</td>\n",
       "    </tr>\n",
       "    <tr>\n",
       "      <th>6</th>\n",
       "      <td>75%</td>\n",
       "      <td>20042.930000</td>\n",
       "      <td>26837.690000</td>\n",
       "    </tr>\n",
       "    <tr>\n",
       "      <th>7</th>\n",
       "      <td>max</td>\n",
       "      <td>38552.450000</td>\n",
       "      <td>49745.690000</td>\n",
       "    </tr>\n",
       "  </tbody>\n",
       "</table>\n",
       "</div>"
      ],
      "text/plain": [
       "  metrics      smart_mb      ultra_mb\n",
       "0   count   2229.000000    985.000000\n",
       "1    mean  16208.386990  19468.805208\n",
       "2     std   5870.476681  10087.170752\n",
       "3     min      0.000000      0.000000\n",
       "4     25%  12643.010000  11770.260000\n",
       "5     50%  16506.840000  19308.010000\n",
       "6     75%  20042.930000  26837.690000\n",
       "7     max  38552.450000  49745.690000"
      ]
     },
     "metadata": {},
     "output_type": "display_data"
    },
    {
     "name": "stdout",
     "output_type": "stream",
     "text": [
      "Дисперсия использованного трафика в месяц по smart: 34462496.46\n",
      "Дисперсия использованного трафика в месяц по ultra: 101751013.78\n"
     ]
    }
   ],
   "source": [
    "# какой объём интернет-трафика требуется пользователям каждого тарифа в месяц? \n",
    "print('Сравнение распределений использованного интернет-трафика в месяц(Мб.)')\n",
    "smart_descr = pd.DataFrame(id_full_data.query('tariff == \"smart\"')['mb_used'].describe()).reset_index()\n",
    "ultra_descr = pd.DataFrame(id_full_data.query('tariff == \"ultra\"')['mb_used'].describe()).reset_index()\n",
    "duration_comparison = smart_descr.merge(ultra_descr, how='outer', left_on='index',right_on='index' )\n",
    "duration_comparison.columns=['metrics', 'smart_mb', 'ultra_mb']\n",
    "display(duration_comparison)\n",
    "variance_estimate_smart = np.var(id_full_data.query('tariff == \"smart\"')['mb_used'], ddof=1)\n",
    "variance_estimate_ultra = np.var(id_full_data.query('tariff == \"ultra\"')['mb_used'], ddof=1)\n",
    "\n",
    "print('Дисперсия использованного трафика в месяц по smart: {:.2f}'.format(variance_estimate_smart))\n",
    "print('Дисперсия использованного трафика в месяц по ultra: {:.2f}'.format(variance_estimate_ultra))"
   ]
  },
  {
   "cell_type": "code",
   "execution_count": 177,
   "metadata": {},
   "outputs": [
    {
     "data": {
      "image/png": "[encoded data removed]",
      "text/plain": [
       "<Figure size 864x504 with 1 Axes>"
      ]
     },
     "metadata": {
      "needs_background": "light"
     },
     "output_type": "display_data"
    },
    {
     "name": "stdout",
     "output_type": "stream",
     "text": [
      "0.00        2\n",
      "17305.54    1\n",
      "2305.73     1\n",
      "Name: mb_used, dtype: int64\n",
      "0.00        11\n",
      "24550.03     1\n",
      "8152.07      1\n",
      "Name: mb_used, dtype: int64\n"
     ]
    }
   ],
   "source": [
    "#Визуализация распределения использованного интернет-трафика в месяц\n",
    "fig, ax = plt.subplots()\n",
    "ax.hist(id_full_data.query('tariff == \"smart\"')['mb_used'],bins=200, alpha=0.7, label='smart')\n",
    "ax.hist(id_full_data.query('tariff == \"ultra\"')['mb_used'],bins=200, alpha=0.7, label='ultra')\n",
    "fig.set_figwidth(12)\n",
    "fig.set_figheight(7)\n",
    "ax.set_xlabel('Объем интернет-трафика в месяц(Мб.)')\n",
    "ax.set_ylabel('Количество человек/месяцев (ед.)')\n",
    "plt.title('Распределение использованного интернет-трафика в месяц для тарифов \"Смарт\" и \"Ультра\"\\n')\n",
    "plt.legend()\n",
    "plt.show()\n",
    "print(id_full_data.query('tariff == \"smart\"')['mb_used'].value_counts().head(3))\n",
    "print(id_full_data.query('tariff == \"ultra\"')['mb_used'].value_counts().head(3))"
   ]
  },
  {
   "cell_type": "markdown",
   "metadata": {},
   "source": [
    "\n",
    "> <p><span style='color:Blue'> Очевидно интернет является наиболее востребованной услугой. т.к. количество человек/месяцев в которые не использовался интернет для обоих тарифов минимально. </span></p>\n",
    "> <p><span style='color:Blue'> В среднем владельцы ultra более активно используют интернет, и снова подтверждают свою разнородность меньшей плотностью распределения.  </span></p>"
   ]
  },
  {
   "cell_type": "code",
   "execution_count": 178,
   "metadata": {},
   "outputs": [
    {
     "data": {
      "text/plain": [
       "count    2229.000000\n",
       "mean     1230.442346\n",
       "std       785.720816\n",
       "min       550.000000\n",
       "25%       550.000000\n",
       "50%       957.978516\n",
       "75%      1665.488281\n",
       "max      6699.775391\n",
       "Name: full_costs, dtype: float64"
      ]
     },
     "metadata": {},
     "output_type": "display_data"
    },
    {
     "data": {
      "text/plain": [
       "567"
      ]
     },
     "metadata": {},
     "output_type": "display_data"
    },
    {
     "data": {
      "image/png": "[encoded data removed]",
      "text/plain": [
       "<Figure size 864x504 with 1 Axes>"
      ]
     },
     "metadata": {
      "needs_background": "light"
     },
     "output_type": "display_data"
    }
   ],
   "source": [
    "# Опишем распределение выручки оператора по тарифу smart(на каждый человек/месяц)\n",
    "display(id_full_data[id_full_data['tariff'] == 'smart']['full_costs'].describe())\n",
    "\n",
    "# сколько человек/месяцев уложились в тариф\n",
    "display(id_full_data.query('tariff == \"smart\" and full_costs == 550').shape[0])\n",
    "\n",
    "# построим гистограмму распределения\n",
    "fig, ax = plt.subplots()\n",
    "ax.hist(id_full_data[id_full_data['tariff'] == 'smart']['full_costs'],bins=100, label='smart')\n",
    "fig.set_figwidth(12)\n",
    "fig.set_figheight(7)\n",
    "ax.set_xlabel('Объем месячной выручки (руб.)')\n",
    "ax.set_ylabel('Количество челеловек/месяцев (ед.)')\n",
    "plt.title('Распределение выручки оператора по тарифу smart(на каждый человек/месяц)\\n')\n",
    "plt.legend()\n",
    "plt.show()"
   ]
  },
  {
   "cell_type": "markdown",
   "metadata": {},
   "source": [
    "> <span style='color:Blue'> Имеем 2229 человек/месяцев. Хотя многие из них(567) уложились в стоимость абонентской платы 550 руб/мес, оставшиеся сдвинули среднее значение стоимости тарифа к 1230 руб./мес., и даже медианное к 958 руб./мес.  </span>\n",
    "  <p> Тогда каждый 1% человеко/месяцев в текущей выборке приносит доход в диапазоне от:</p> \n",
    "  <p>2229 *0.01 * 957 =  21331 руб ориентируясь на медианное значение стоимости месяца</p>\n",
    "  <p> до 2229 *0.01 * 1230 =  27417 руб  ориентируясь на среднее значение стоимости месяца</p>\n"
   ]
  },
  {
   "cell_type": "code",
   "execution_count": 179,
   "metadata": {},
   "outputs": [
    {
     "data": {
      "text/plain": [
       "count     985.000000\n",
       "mean     2059.868918\n",
       "std       354.880790\n",
       "min      1950.000000\n",
       "25%      1950.000000\n",
       "50%      1950.000000\n",
       "75%      1950.000000\n",
       "max      4736.966309\n",
       "Name: full_costs, dtype: float64"
      ]
     },
     "metadata": {},
     "output_type": "display_data"
    },
    {
     "data": {
      "text/plain": [
       "851"
      ]
     },
     "metadata": {},
     "output_type": "display_data"
    },
    {
     "data": {
      "image/png": "[encoded data removed]",
      "text/plain": [
       "<Figure size 864x504 with 1 Axes>"
      ]
     },
     "metadata": {
      "needs_background": "light"
     },
     "output_type": "display_data"
    }
   ],
   "source": [
    "# опишем распределение выручки оператора по тарифу ultra (на каждый человек/месяц)\n",
    "display(id_full_data[id_full_data['tariff'] == 'ultra']['full_costs'].describe())\n",
    "\n",
    "# сколько человек/месяцев уложились в тариф\n",
    "display(id_full_data.query('tariff == \"ultra\" and full_costs == 1950').shape[0])\n",
    "\n",
    "# построим гистограмму распределения\n",
    "fig, ax = plt.subplots()\n",
    "ax.hist(id_full_data[id_full_data['tariff'] == 'ultra']['full_costs'],bins=100, label='ultra')\n",
    "fig.set_figwidth(12)\n",
    "fig.set_figheight(7)\n",
    "ax.set_xlabel('Объем месячной выручки (руб.)')\n",
    "ax.set_ylabel('Количество челеловек/месяцев (ед.)')\n",
    "plt.title('Распределение выручки оператора по тарифу ultra(на каждый человек/месяц)\\n')\n",
    "plt.legend()\n",
    "plt.show()"
   ]
  },
  {
   "cell_type": "markdown",
   "metadata": {},
   "source": [
    "> <span style='color:Blue'> Имеем 985 человек/месяцев. Подавляющее большинство из них(851) уложились в стоимость абонентской платы 1950 руб./мес., благодаря чему медианная стоимость месяца оказалась равна абонентской плате. Оставшиеся немного сдвинули среднее значение стоимости тарифа к 2059 руб./мес.  </span>\n",
    " <p> Тогда каждый 1% человеко/месяцев в текущей выборке приносит доход в диапазоне от:</p> \n",
    " <p> 985 *0.01 * 1950 =  19207 руб ориентируясь на медианное значение стоимости месяца</p>\n",
    " <p> до 985 *0.01 * 2059 =  20281 руб  ориентируясь на среднее значение стоимости месяца</p>\n"
   ]
  },
  {
   "cell_type": "markdown",
   "metadata": {},
   "source": [
    "### Общий вывод исследовательского анализа\n",
    "Если предположить, что: \n",
    "<p> - распределение человеко/месяцев в выборке примерно соответствует их распределению в генеральной савокупности(это предмет для уточнения с заказчиком, допустимо просто сравнить распределение клиентов между тарифами в генеральной совокупности и в выборке),</p> \n",
    "<p> - а воздействие рекламы будет вызывать пропорциональное увеличение человек/месяцев в тарифе от их текущего количества,</p>\n",
    "<p>тогда тариф smart выглядит более привлекательно, т.к. в расчете на 1% человек/месяцев приносит больший доход </p>\n",
    "<p>Эта логика основана на том, что количество клиентов 'массового' тарифа больше чем клиентов 'премиального' по объективным причинам разного размера сегментов рынка. А значит ожидать одинакового эффекта рекламы в абсолютных величинах(количество клиентов) для разных тарифов не стоит. </p>\n",
    "<p>Если же распределение клиентов/(человек/месяцев) в генеральной савокупности отличается, или есть основания предполагать(по опыту), что один из тарифов вызовет больший рекламный отклик, то необходимо делать поправки на эти факторы.</p>"
   ]
  },
  {
   "cell_type": "markdown",
   "metadata": {},
   "source": [
    "## 4. Проверка статистических гипотез. <a id=4></a>"
   ]
  },
  {
   "cell_type": "markdown",
   "metadata": {},
   "source": [
    "### Гипотеза №1.\n",
    "### Средняя выручка пользователей тарифов «Ультра» и «Смарт» различается."
   ]
  },
  {
   "cell_type": "markdown",
   "metadata": {},
   "source": [
    "Сформулируем подробнее нулевую и альтрнативную гипотезы.\n",
    "\n",
    "H0: равенство средних значений двух генеральных совокупностей:        \n",
    "<p>- совокупности выручки по клиентам smart(в месяц)</p>\n",
    "<p>- совокупности выручки по клиентам ultra(в месяц)</p> \n",
    "\n",
    "Н1: Средняя выручка в генеральных совокупностях пользователей тарифов «Ультра» и «Смарт» различается"
   ]
  },
  {
   "cell_type": "code",
   "execution_count": 180,
   "metadata": {},
   "outputs": [
    {
     "name": "stdout",
     "output_type": "stream",
     "text": [
      "Статистическая значимость разницы между средними значениями выручки: 1.6264184497198272e-298\n",
      "Отвергаем гипотезу о различии средней выручки\n"
     ]
    }
   ],
   "source": [
    "# определим выборки данных \n",
    "smart_costs_data = id_full_data[id_full_data['tariff'] == 'smart']['full_costs']\n",
    "ultra_costs_data = id_full_data[id_full_data['tariff'] == 'ultra']['full_costs']\n",
    "\n",
    "# определим значимость и проверим гипотезу\n",
    "alpha = .05 # раз речь не о жизни или смерти, то 5% допустимый уровень риска ошибки\n",
    "\n",
    "# опыт аналитического исследования показал значительную разницу дисперсий\n",
    "# по этому параметр equal_var=False\n",
    "results = st.ttest_ind(smart_costs_data, ultra_costs_data,  equal_var=False)\n",
    "\n",
    "print('Статистическая значимость разницы между средними значениями выручки:',results.pvalue)\n",
    "\n",
    "if results.pvalue < alpha:\n",
    "    print('Отвергаем гипотезу о различии средней выручки')\n",
    "else:\n",
    "    print('Принимаем гипотезу о различии средней выручки')\n"
   ]
  },
  {
   "cell_type": "markdown",
   "metadata": {},
   "source": [
    "> <span style='color:Blue'> Раз гипотеза о различии средней выручки по тарифам отвергнута, то мы не можем утверждать, что в генеральной совокупности клиентов Мегалайн есть разница между средней выручкой клиентов тарифа smart и ultra.</span>"
   ]
  },
  {
   "cell_type": "markdown",
   "metadata": {},
   "source": [
    "### Гипотеза №2\n",
    "### Средняя выручка пользователей из Москвы отличается от выручки пользователей из других регионов."
   ]
  },
  {
   "cell_type": "markdown",
   "metadata": {},
   "source": [
    "Нулевой гипотезой в данном случае будет равенство средних значений двух генеральных совокупностей:        \n",
    "<p>- совокупности выручки по клиентам из Москвы(в месяц)</p>\n",
    "<p>- совокупности выручки по клиентам всех городов кроме Москвы(в месяц)</p> "
   ]
  },
  {
   "cell_type": "code",
   "execution_count": 181,
   "metadata": {},
   "outputs": [
    {
     "data": {
      "text/plain": [
       "0    Краснодар\n",
       "1    Краснодар\n",
       "2    Краснодар\n",
       "Name: city, dtype: object"
      ]
     },
     "execution_count": 181,
     "metadata": {},
     "output_type": "execute_result"
    }
   ],
   "source": [
    "# Чтобы сформировать выборки добавим к  таблице id_full_data данные о городе проживания пользователя из users_data\n",
    "id_full_data = id_full_data.merge(users_data[['user_id', 'city']], left_on='user_id', right_on='user_id')\n",
    "id_full_data['city'].head(3)\n"
   ]
  },
  {
   "cell_type": "code",
   "execution_count": 182,
   "metadata": {},
   "outputs": [
    {
     "name": "stdout",
     "output_type": "stream",
     "text": [
      "Статистическая значимость разницы между средними значениями выручки: 0.4698464699962491\n",
      "Принимаем гипотезу о различии средней выручки\n"
     ]
    }
   ],
   "source": [
    "# сгруппируем выборки\n",
    "moscow_costs_data = id_full_data[id_full_data['city'] == 'Москва']['full_costs']\n",
    "other_cities_costs_data = id_full_data[id_full_data['city'] != 'Москва']['full_costs']\n",
    "\n",
    "# определим значимость и проверим гипотезу\n",
    "alpha = .05 # раз речь не о жизни или смерти, то 5% допустимый уровень риска ошибки\n",
    "\n",
    "results = st.ttest_ind(moscow_costs_data, other_cities_costs_data)\n",
    "\n",
    "print('Статистическая значимость разницы между средними значениями выручки:',results.pvalue)\n",
    "\n",
    "if results.pvalue < alpha:\n",
    "    print('Отвергаем гипотезу о различии средней выручки')\n",
    "else:\n",
    "    print('Принимаем гипотезу о различии средней выручки')\n"
   ]
  },
  {
   "cell_type": "markdown",
   "metadata": {},
   "source": [
    "> <span style='color:Blue'>Очевидно, в генеральной савокупности действительно есть разница между средней выручкой клиентов Москвы и других городов, т.к. значимость отклонения между средними выборок очень велика.</span>"
   ]
  },
  {
   "cell_type": "markdown",
   "metadata": {},
   "source": [
    "## 5. Выводы. <a id=5></a>"
   ]
  },
  {
   "cell_type": "markdown",
   "metadata": {},
   "source": [
    "В итоге имеем следующие существенные факты:\n",
    "1. Хотя по данным выборки средняя выручка по тарифу ultra больше, мы не смогли подтвердить гипотезу о том, что средняя месячная выручка на клиента различается по тарифам в генеральной совокупности.\n",
    "2. При условии подтверждения клиентом соответствия распределения абонентов между тарифами в выборке и генеральной совокупности, тариф smart предпочтительнее, т.к. на 1% аудитории этого тарифа приходится большая выручка(сама аудитория больше).\n",
    "В этих обстоятельствах рекламные усилия более целесообразно направить на тариф smart.\n",
    "\n",
    "P.S. При дальнейшем исследовании можно было бы обратить внимание на различия в средней выручке тарифа в городах с разным населением и рассмотреть возможности таргетированной рекламы в зависимости от города.\n"
   ]
  }
 ],
 "metadata": {
  "kernelspec": {
   "display_name": "Python 3",
   "language": "python",
   "name": "python3"
  },
  "language_info": {
   "codemirror_mode": {
    "name": "ipython",
    "version": 3
   },
   "file_extension": ".py",
   "mimetype": "text/x-python",
   "name": "python",
   "nbconvert_exporter": "python",
   "pygments_lexer": "ipython3",
   "version": "3.8.3"
  }
 },
 "nbformat": 4,
 "nbformat_minor": 2
}
